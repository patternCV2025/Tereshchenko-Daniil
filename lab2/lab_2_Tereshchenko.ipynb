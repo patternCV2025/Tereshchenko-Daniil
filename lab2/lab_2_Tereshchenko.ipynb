{
 "cells": [
  {
   "cell_type": "markdown",
   "id": "93ac6106-25f5-41b8-a6a5-cb18e2b52684",
   "metadata": {},
   "source": [
    "# Лабораторна робота 2. Побудова лінійного бінарного класифікатора на основі оптимізації функціонала якості"
   ]
  },
  {
   "cell_type": "markdown",
   "id": "c561691c-b941-440f-b32c-f51eb14f6916",
   "metadata": {},
   "source": [
    "## Завдання для самостійної роботи "
   ]
  },
  {
   "cell_type": "code",
   "execution_count": 73,
   "id": "88e2c503-6ef1-4ca4-ae1d-9e9ad8d37003",
   "metadata": {},
   "outputs": [
    {
     "data": {
      "text/plain": [
       "(array([[26, 41,  1],\n",
       "        [11, 28,  1],\n",
       "        [27, 48,  1],\n",
       "        [24, 31,  1],\n",
       "        [ 9, 48,  1],\n",
       "        [26, 24,  1],\n",
       "        [50, 38,  1],\n",
       "        [30, 41,  1],\n",
       "        [36, 35,  1]]),\n",
       " array([0, 1, 0, 1, 0, 1, 1, 1, 0]))"
      ]
     },
     "execution_count": 73,
     "metadata": {},
     "output_type": "execute_result"
    }
   ],
   "source": [
    "import json\n",
    "import numpy as np\n",
    "\n",
    "data_variant2 = {\n",
    "    \"x_train_1\": [\n",
    "        [26, 41],\n",
    "        [11, 28],\n",
    "        [27, 48],\n",
    "        [24, 31],\n",
    "        [ 9, 48],\n",
    "        [26, 24],\n",
    "        [50, 38],\n",
    "        [30, 41],\n",
    "        [36, 35]\n",
    "    ],\n",
    "    \"y_train_1\": [-1,  1, -1,  1, -1,  1,  1,  1, -1]}\n",
    "\n",
    "with open(\"data_variant2_lab2.json\", \"w\", encoding=\"utf-8\") as f:\n",
    "    json.dump(data_variant2, f, ensure_ascii=False, indent=4)\n",
    "\n",
    "with open(\"data_variant2_lab2.json\", \"r\", encoding=\"utf-8\") as f:\n",
    "    imported_data = json.load(f)\n",
    "\n",
    "x_train = imported_data[\"x_train_1\"]\n",
    "x_train = np.array([x + [1] for x in x_train])\n",
    "y_train_orig = np.array(imported_data[\"y_train_1\"])\n",
    "y_train = np.array([1 if i == 1 else 0 for i in y_train_orig])\n",
    "\n",
    "x_train, y_train"
   ]
  },
  {
   "cell_type": "code",
   "execution_count": 75,
   "id": "4706bdc6-0376-4bca-9270-b8b4b4f34b21",
   "metadata": {},
   "outputs": [
    {
     "name": "stdout",
     "output_type": "stream",
     "text": [
      "Обчислені вагові коефіцієнти w:\n",
      "[ 0.0064763  -0.0415899   1.92702116]\n"
     ]
    },
    {
     "data": {
      "image/png": "[encoded data removed]",
      "text/plain": [
       "<Figure size 640x480 with 1 Axes>"
      ]
     },
     "metadata": {},
     "output_type": "display_data"
    }
   ],
   "source": [
    "import numpy as np\n",
    "import matplotlib.pyplot as plt\n",
    "\n",
    "# # Дані для тренування\n",
    "# x_train = [[10, 50], [20, 30], [25, 30], [20, 60], [15, 70], [40, 40], [30, 45], [20, 45], [40, 30], [7, 35]]\n",
    "# # Додаємо зміщення (bias term = 1) для кожного прикладу\n",
    "# x_train = [x + [1] for x in x_train]\n",
    "# x_train = np.array(x_train)\n",
    "\n",
    "# # Мітки класів (-1 або 1)\n",
    "# y_train = np.array([-1, 1, 1, -1, -1, 1, 1, -1, 1, -1])\n",
    "\n",
    "pt = np.sum([x * y for x, y in zip(x_train, y_train)], axis=0)\n",
    "\n",
    "xxt = np.sum([np.outer(x, x) for x in x_train], axis=0)\n",
    "\n",
    "w = np.dot(pt, np.linalg.inv(xxt))\n",
    "\n",
    "print(\"Обчислені вагові коефіцієнти w:\")\n",
    "print(w)\n",
    "\n",
    "# Формування координат для лінії розділення w[0]*x + w[1]*y + w[2] = 0\n",
    "# y = (-w[0]*x - w[2]) / w[1]\n",
    "line_x = list(range(max(x_train[:, 0])))\n",
    "line_y = [(-x*w[0]/w[1] - w[2]/w[1]) for x in line_x]\n",
    "\n",
    "# Розділення точок за класами для візуалізації\n",
    "x_0 = x_train[y_train == 1]                 # Точки класу 1\n",
    "x_1 = x_train[y_train == -1]                # Точки класу -1\n",
    "\n",
    "# Візуалізація\n",
    "plt.scatter(x_0[:, 0], x_0[:, 1], color='red')\n",
    "plt.scatter(x_1[:, 0], x_1[:, 1], color='blue')\n",
    "plt.plot(line_x, line_y, color='green')\n",
    "\n",
    "# Налаштування графіка\n",
    "plt.xlim([0, 45])\n",
    "plt.ylim([0, 75])\n",
    "plt.ylabel(\"довжина\")\n",
    "plt.xlabel(\"ширина\")\n",
    "plt.grid(True)\n",
    "plt.show()"
   ]
  },
  {
   "cell_type": "markdown",
   "id": "549f65e6-287d-4eee-9a77-b83789db2b4d",
   "metadata": {},
   "source": [
    "## Контрольні питання\n",
    "\n",
    "\n",
    "1. Що таке відступ (margin) і яка його роль в побудові моделі класифікації?\n",
    "   - Він вимірює скалярний добуток між вектором ваг ω та вектором ознак $ x_i $, помножений на правильну мітку класу $ y_i $. По суті, це показник впевненості класифікатора, що враховує знак.\n",
    "   \n",
    "2. Яка роль функції втрат і чому не можна знайти коефіцієнти лінійного класифікатора шляхом безпосереднього розв’язаня задачі оптимізації через знаходження похідної?\n",
    "    - Вона кількісно оцінює, наскільки \"погано\" модель працює на навчальних даних (наскільки її прогнози відрізняються від істинних міток). Мета навчання — знайти такі коефіцієнти ω, які мінімізують цю функцію втрат.\n",
    "   3. Чим приницпово розрізняється алгоритм, розглянутий у цій роботі від алгоритму, розглянутого у лаб. роб 1?\n",
    "    - бінарний класифікатор (Перцептрон) ітеративно виправляє помилки класифікації, тоді як МНК-класифікатор знаходить аналітичне рішення, мінімізуючи суму квадратів помилок.\n",
    "   \n",
    "4. Вивести математичний вираз для оцінки вектора w?\n",
    "\n",
    "    - $   {\\omega} = (X^T X)^{-1} X^T y. $"
   ]
  }
 ],
 "metadata": {
  "kernelspec": {
   "display_name": "Python 3 (ipykernel)",
   "language": "python",
   "name": "python3"
  },
  "language_info": {
   "codemirror_mode": {
    "name": "ipython",
    "version": 3
   },
   "file_extension": ".py",
   "mimetype": "text/x-python",
   "name": "python",
   "nbconvert_exporter": "python",
   "pygments_lexer": "ipython3",
   "version": "3.9.21"
  }
 },
 "nbformat": 4,
 "nbformat_minor": 5
}
